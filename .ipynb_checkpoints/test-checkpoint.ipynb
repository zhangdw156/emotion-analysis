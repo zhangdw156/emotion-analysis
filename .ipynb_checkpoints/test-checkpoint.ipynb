{
 "cells": [
  {
   "cell_type": "code",
   "execution_count": 4,
   "id": "066886fc-e940-470a-82fc-52e43fd238af",
   "metadata": {},
   "outputs": [
    {
     "name": "stderr",
     "output_type": "stream",
     "text": [
      "/home/adminad/zhangdw/workspace/uv/torch/lib/python3.10/site-packages/torch/_subclasses/functional_tensor.py:276: UserWarning: Failed to initialize NumPy: No module named 'numpy' (Triggered internally at /pytorch/torch/csrc/utils/tensor_numpy.cpp:81.)\n",
      "  cpu = _conversion_method_template(device=torch.device(\"cpu\"))\n"
     ]
    }
   ],
   "source": [
    "import torch"
   ]
  },
  {
   "cell_type": "code",
   "execution_count": 2,
   "id": "e6b221fe-0719-4ee6-bba2-c470f4b0a390",
   "metadata": {
    "scrolled": true
   },
   "outputs": [
    {
     "name": "stdout",
     "output_type": "stream",
     "text": [
      "Package                  Version\n",
      "------------------------ ----------------\n",
      "attrs                    21.2.0\n",
      "Automat                  20.2.0\n",
      "Babel                    2.8.0\n",
      "bcrypt                   3.2.0\n",
      "blinker                  1.4\n",
      "certifi                  2020.6.20\n",
      "chardet                  4.0.0\n",
      "click                    8.0.3\n",
      "cloud-init               25.1.2\n",
      "colorama                 0.4.4\n",
      "command-not-found        0.3\n",
      "configobj                5.0.6\n",
      "constantly               15.1.0\n",
      "cryptography             3.4.8\n",
      "dbus-python              1.2.18\n",
      "distro                   1.7.0\n",
      "distro-info              1.1+ubuntu0.2\n",
      "docker                   5.0.3\n",
      "docker-compose           1.29.2\n",
      "dockerpty                0.4.1\n",
      "docopt                   0.6.2\n",
      "filelock                 3.18.0\n",
      "fsspec                   2025.5.1\n",
      "httplib2                 0.20.2\n",
      "hyperlink                21.0.0\n",
      "idna                     3.3\n",
      "importlib-metadata       4.6.4\n",
      "incremental              21.3.0\n",
      "jeepney                  0.7.1\n",
      "Jinja2                   3.0.3\n",
      "jsonpatch                1.32\n",
      "jsonpointer              2.0\n",
      "jsonschema               3.2.0\n",
      "keyring                  23.5.0\n",
      "launchpadlib             1.10.16\n",
      "lazr.restfulclient       0.14.4\n",
      "lazr.uri                 1.0.6\n",
      "MarkupSafe               2.0.1\n",
      "more-itertools           8.10.0\n",
      "mpmath                   1.3.0\n",
      "netifaces                0.11.0\n",
      "networkx                 3.4.2\n",
      "nvidia-cublas-cu12       12.6.4.1\n",
      "nvidia-cuda-cupti-cu12   12.6.80\n",
      "nvidia-cuda-nvrtc-cu12   12.6.77\n",
      "nvidia-cuda-runtime-cu12 12.6.77\n",
      "nvidia-cudnn-cu12        9.5.1.17\n",
      "nvidia-cufft-cu12        11.3.0.4\n",
      "nvidia-cufile-cu12       1.11.1.6\n",
      "nvidia-curand-cu12       10.3.7.77\n",
      "nvidia-cusolver-cu12     11.7.1.2\n",
      "nvidia-cusparse-cu12     12.5.4.2\n",
      "nvidia-cusparselt-cu12   0.6.3\n",
      "nvidia-nccl-cu12         2.26.2\n",
      "nvidia-nvjitlink-cu12    12.6.85\n",
      "nvidia-nvtx-cu12         12.6.77\n",
      "oauthlib                 3.2.0\n",
      "packaging                21.3\n",
      "pexpect                  4.8.0\n",
      "pip                      22.0.2\n",
      "ptyprocess               0.7.0\n",
      "pyasn1                   0.4.8\n",
      "pyasn1-modules           0.2.1\n",
      "PyGObject                3.42.1\n",
      "PyHamcrest               2.0.2\n",
      "PyJWT                    2.3.0\n",
      "pyOpenSSL                21.0.0\n",
      "pyparsing                2.4.7\n",
      "pyrsistent               0.18.1\n",
      "pyserial                 3.5\n",
      "python-apt               2.4.0+ubuntu4\n",
      "python-debian            0.1.43+ubuntu1.1\n",
      "python-dotenv            0.19.2\n",
      "python-magic             0.4.24\n",
      "pytz                     2022.1\n",
      "PyYAML                   5.4.1\n",
      "requests                 2.25.1\n",
      "screen-resolution-extra  0.0.0\n",
      "SecretStorage            3.3.1\n",
      "service-identity         18.1.0\n",
      "setuptools               59.6.0\n",
      "six                      1.16.0\n",
      "sos                      4.8.2\n",
      "speedtest-cli            2.1.3\n",
      "ssh-import-id            5.11\n",
      "sympy                    1.14.0\n",
      "systemd-python           234\n",
      "texttable                1.6.4\n",
      "torch                    2.7.1\n",
      "triton                   3.3.1\n",
      "Twisted                  22.1.0\n",
      "typing_extensions        4.14.0\n",
      "ubuntu-drivers-common    0.0.0\n",
      "ubuntu-pro-client        8001\n",
      "ufw                      0.36.1\n",
      "unattended-upgrades      0.1\n",
      "urllib3                  1.26.5\n",
      "uv                       0.7.12\n",
      "wadllib                  1.3.6\n",
      "websocket-client         1.2.3\n",
      "wheel                    0.37.1\n",
      "xkit                     0.0.0\n",
      "zipp                     1.0.0\n",
      "zope.interface           5.4.0\n"
     ]
    }
   ],
   "source": [
    "!pip list"
   ]
  },
  {
   "cell_type": "code",
   "execution_count": 5,
   "id": "867a36c5-5224-4c6f-843b-30d829cde108",
   "metadata": {},
   "outputs": [
    {
     "name": "stdout",
     "output_type": "stream",
     "text": [
      "2.7.1+cu126\n",
      "True\n"
     ]
    }
   ],
   "source": [
    "print(torch.__version__)  # 应输出版本号（如 2.0.1）\n",
    "print(torch.cuda.is_available())  # 若有 NVIDIA GPU 且安装正确，返回 True"
   ]
  },
  {
   "cell_type": "code",
   "execution_count": 6,
   "id": "b832bcbd-11bd-4151-b131-a6c075c1baca",
   "metadata": {
    "scrolled": true
   },
   "outputs": [
    {
     "name": "stdout",
     "output_type": "stream",
     "text": [
      "Mon Jun  9 03:07:52 2025       \n",
      "+-----------------------------------------------------------------------------------------+\n",
      "| NVIDIA-SMI 550.163.01             Driver Version: 550.163.01     CUDA Version: 12.4     |\n",
      "|-----------------------------------------+------------------------+----------------------+\n",
      "| GPU  Name                 Persistence-M | Bus-Id          Disp.A | Volatile Uncorr. ECC |\n",
      "| Fan  Temp   Perf          Pwr:Usage/Cap |           Memory-Usage | GPU-Util  Compute M. |\n",
      "|                                         |                        |               MIG M. |\n",
      "|=========================================+========================+======================|\n",
      "|   0  NVIDIA H20                     On  |   00000000:0F:00.0 Off |                    0 |\n",
      "| N/A   30C    P0             74W /  500W |       4MiB /  97871MiB |      0%      Default |\n",
      "|                                         |                        |             Disabled |\n",
      "+-----------------------------------------+------------------------+----------------------+\n",
      "|   1  NVIDIA H20                     On  |   00000000:34:00.0 Off |                    0 |\n",
      "| N/A   27C    P0             73W /  500W |       4MiB /  97871MiB |      0%      Default |\n",
      "|                                         |                        |             Disabled |\n",
      "+-----------------------------------------+------------------------+----------------------+\n",
      "|   2  NVIDIA H20                     On  |   00000000:48:00.0 Off |                    0 |\n",
      "| N/A   28C    P0             72W /  500W |       4MiB /  97871MiB |      0%      Default |\n",
      "|                                         |                        |             Disabled |\n",
      "+-----------------------------------------+------------------------+----------------------+\n",
      "|   3  NVIDIA H20                     On  |   00000000:5A:00.0 Off |                    0 |\n",
      "| N/A   26C    P0             72W /  500W |       4MiB /  97871MiB |      0%      Default |\n",
      "|                                         |                        |             Disabled |\n",
      "+-----------------------------------------+------------------------+----------------------+\n",
      "|   4  NVIDIA H20                     On  |   00000000:87:00.0 Off |                    0 |\n",
      "| N/A   29C    P0             73W /  500W |       4MiB /  97871MiB |      0%      Default |\n",
      "|                                         |                        |             Disabled |\n",
      "+-----------------------------------------+------------------------+----------------------+\n",
      "|   5  NVIDIA H20                     On  |   00000000:AE:00.0 Off |                    0 |\n",
      "| N/A   27C    P0             73W /  500W |       4MiB /  97871MiB |      0%      Default |\n",
      "|                                         |                        |             Disabled |\n",
      "+-----------------------------------------+------------------------+----------------------+\n",
      "|   6  NVIDIA H20                     On  |   00000000:C2:00.0 Off |                    0 |\n",
      "| N/A   29C    P0             75W /  500W |       4MiB /  97871MiB |      0%      Default |\n",
      "|                                         |                        |             Disabled |\n",
      "+-----------------------------------------+------------------------+----------------------+\n",
      "|   7  NVIDIA H20                     On  |   00000000:D7:00.0 Off |                    0 |\n",
      "| N/A   26C    P0             73W /  500W |       4MiB /  97871MiB |      0%      Default |\n",
      "|                                         |                        |             Disabled |\n",
      "+-----------------------------------------+------------------------+----------------------+\n",
      "                                                                                         \n",
      "+-----------------------------------------------------------------------------------------+\n",
      "| Processes:                                                                              |\n",
      "|  GPU   GI   CI        PID   Type   Process name                              GPU Memory |\n",
      "|        ID   ID                                                               Usage      |\n",
      "|=========================================================================================|\n",
      "|  No running processes found                                                             |\n",
      "+-----------------------------------------------------------------------------------------+\n"
     ]
    }
   ],
   "source": [
    "!nvidia-smi"
   ]
  },
  {
   "cell_type": "code",
   "execution_count": 7,
   "id": "bf0d1056-5536-497b-a7aa-96a741fa3afd",
   "metadata": {},
   "outputs": [
    {
     "name": "stdout",
     "output_type": "stream",
     "text": [
      "可用 GPU 数量: 8\n"
     ]
    }
   ],
   "source": [
    "print(\"可用 GPU 数量:\", torch.cuda.device_count())"
   ]
  },
  {
   "cell_type": "code",
   "execution_count": null,
   "id": "6c9ec6d4-80de-403b-b9fd-48382c25a88e",
   "metadata": {},
   "outputs": [],
   "source": []
  }
 ],
 "metadata": {
  "kernelspec": {
   "display_name": "Python 3 (ipykernel)",
   "language": "python",
   "name": "python3"
  },
  "language_info": {
   "codemirror_mode": {
    "name": "ipython",
    "version": 3
   },
   "file_extension": ".py",
   "mimetype": "text/x-python",
   "name": "python",
   "nbconvert_exporter": "python",
   "pygments_lexer": "ipython3",
   "version": "3.10.12"
  }
 },
 "nbformat": 4,
 "nbformat_minor": 5
}
